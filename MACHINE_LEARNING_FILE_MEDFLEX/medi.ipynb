{
 "cells": [
  {
   "cell_type": "code",
   "execution_count": 2,
   "metadata": {
    "id": "1CUXzxbPceIm"
   },
   "outputs": [],
   "source": [
    "# Import necessary libraries\n",
    "import pandas as pd\n",
    "import random\n",
    "from sklearn.model_selection import train_test_split\n",
    "from sklearn.feature_extraction.text import CountVectorizer\n",
    "from sklearn.tree import DecisionTreeClassifier\n",
    "from sklearn.metrics import accuracy_score\n"
   ]
  },
  {
   "cell_type": "code",
   "execution_count": 3,
   "metadata": {
    "id": "wrzVq2gycyc1"
   },
   "outputs": [],
   "source": [
    "# Define symptoms and their corresponding medicines\n",
    "symptoms = [\n",
    "    \"fever\", \"runny nose\", \"fungal infection\", \"stomach acid\",\n",
    "    \"diarrhea\", \"pain\", \"bacterial infection\", \"headache\",\n",
    "    \"muscle pain\", \"sneezing\", \"itchy eyes\", \"skin rash\",\n",
    "    \"heartburn\", \"nausea\", \"stomach cramps\", \"joint pain\",\n",
    "    \"inflammation\", \"sore throat\", \"cough\", \"respiratory infection\"\n",
    "]\n",
    "\n",
    "medicines = {\n",
    "    \"fever\": \"Paracetamol\",\n",
    "    \"runny nose\": \"Cetirizine\",\n",
    "    \"fungal infection\": \"Cetirizine\",\n",
    "    \"stomach acid\": \"Aciloc\",\n",
    "    \"diarrhea\": \"Lomotil\",\n",
    "    \"pain\": \"Diclofenac\",\n",
    "    \"bacterial infection\": \"Azithromycin\",\n",
    "    \"headache\": \"Paracetamol\",\n",
    "    \"muscle pain\": \"Paracetamol\",\n",
    "    \"sneezing\": \"Cetirizine\",\n",
    "    \"itchy eyes\": \"Cetirizine\",\n",
    "    \"skin rash\": \"Cetirizine\",\n",
    "    \"heartburn\": \"Aciloc\",\n",
    "    \"nausea\": \"Aciloc\",\n",
    "    \"stomach cramps\": \"Lomotil\",\n",
    "    \"joint pain\": \"Diclofenac\",\n",
    "    \"inflammation\": \"Diclofenac\",\n",
    "    \"sore throat\": \"Azithromycin\",\n",
    "    \"cough\": \"Azithromycin\",\n",
    "    \"respiratory infection\": \"Azithromycin\"\n",
    "}\n"
   ]
  },
  {
   "cell_type": "code",
   "execution_count": 4,
   "metadata": {
    "colab": {
     "base_uri": "https://localhost:8080/",
     "height": 206
    },
    "id": "4ZcJhrVycyo_",
    "outputId": "5a6fedc0-de79-468f-86d9-94d86cff5f24"
   },
   "outputs": [
    {
     "data": {
      "text/html": [
       "<div>\n",
       "<style scoped>\n",
       "    .dataframe tbody tr th:only-of-type {\n",
       "        vertical-align: middle;\n",
       "    }\n",
       "\n",
       "    .dataframe tbody tr th {\n",
       "        vertical-align: top;\n",
       "    }\n",
       "\n",
       "    .dataframe thead th {\n",
       "        text-align: right;\n",
       "    }\n",
       "</style>\n",
       "<table border=\"1\" class=\"dataframe\">\n",
       "  <thead>\n",
       "    <tr style=\"text-align: right;\">\n",
       "      <th></th>\n",
       "      <th>Symptoms</th>\n",
       "      <th>Medicine</th>\n",
       "    </tr>\n",
       "  </thead>\n",
       "  <tbody>\n",
       "    <tr>\n",
       "      <th>0</th>\n",
       "      <td>fungal infection headache</td>\n",
       "      <td>Paracetamol, Cetirizine</td>\n",
       "    </tr>\n",
       "    <tr>\n",
       "      <th>1</th>\n",
       "      <td>pain skin rash</td>\n",
       "      <td>Diclofenac, Cetirizine</td>\n",
       "    </tr>\n",
       "    <tr>\n",
       "      <th>2</th>\n",
       "      <td>skin rash</td>\n",
       "      <td>Cetirizine</td>\n",
       "    </tr>\n",
       "    <tr>\n",
       "      <th>3</th>\n",
       "      <td>nausea joint pain inflammation</td>\n",
       "      <td>Aciloc, Diclofenac</td>\n",
       "    </tr>\n",
       "    <tr>\n",
       "      <th>4</th>\n",
       "      <td>diarrhea heartburn</td>\n",
       "      <td>Aciloc, Lomotil</td>\n",
       "    </tr>\n",
       "  </tbody>\n",
       "</table>\n",
       "</div>"
      ],
      "text/plain": [
       "                         Symptoms                 Medicine\n",
       "0       fungal infection headache  Paracetamol, Cetirizine\n",
       "1                  pain skin rash   Diclofenac, Cetirizine\n",
       "2                       skin rash               Cetirizine\n",
       "3  nausea joint pain inflammation       Aciloc, Diclofenac\n",
       "4              diarrhea heartburn          Aciloc, Lomotil"
      ]
     },
     "execution_count": 4,
     "metadata": {},
     "output_type": "execute_result"
    }
   ],
   "source": [
    "# Generate a dataset with 5000 rows\n",
    "data = []\n",
    "for _ in range(5000):\n",
    "    selected_symptoms = random.sample(symptoms, random.randint(1, 3))\n",
    "    suggested_medicine = list({medicines[symptom] for symptom in selected_symptoms})\n",
    "    row = [\" \".join(selected_symptoms)]  # Combine symptoms into one string\n",
    "    row.append(\", \".join(suggested_medicine))  # Medicine(s)\n",
    "    data.append(row)\n",
    "\n",
    "# Create DataFrame\n",
    "columns = [\"Symptoms\", \"Medicine\"]\n",
    "df = pd.DataFrame(data, columns=columns)\n",
    "\n",
    "# Display the first few rows of the dataset\n",
    "df.head()\n"
   ]
  },
  {
   "cell_type": "code",
   "execution_count": 5,
   "metadata": {
    "colab": {
     "base_uri": "https://localhost:8080/"
    },
    "id": "kvRKiOFhcy0K",
    "outputId": "ce89c721-7c53-4956-af42-af833778c422"
   },
   "outputs": [
    {
     "name": "stdout",
     "output_type": "stream",
     "text": [
      "Training Data: 4000 rows\n",
      "Validation Data: 500 rows\n",
      "Test Data: 500 rows\n"
     ]
    }
   ],
   "source": [
    "# Split the dataset into train, validation, and test sets\n",
    "train_data, temp_data = train_test_split(df, test_size=0.2, random_state=42)  # 80% train\n",
    "val_data, test_data = train_test_split(temp_data, test_size=0.5, random_state=42)  # 10% val, 10% test\n",
    "\n",
    "# Print the sizes of the datasets\n",
    "print(f\"Training Data: {len(train_data)} rows\")\n",
    "print(f\"Validation Data: {len(val_data)} rows\")\n",
    "print(f\"Test Data: {len(test_data)} rows\")\n"
   ]
  },
  {
   "cell_type": "code",
   "execution_count": 6,
   "metadata": {
    "colab": {
     "base_uri": "https://localhost:8080/"
    },
    "id": "ptWOw49Pcy56",
    "outputId": "fc43a6cd-ee97-479d-dd40-54a5267cb091"
   },
   "outputs": [
    {
     "name": "stdout",
     "output_type": "stream",
     "text": [
      "Feature Names: ['acid' 'bacterial' 'cough' 'cramps' 'diarrhea' 'eyes' 'fever' 'fungal'\n",
      " 'headache' 'heartburn' 'infection' 'inflammation' 'itchy' 'joint'\n",
      " 'muscle' 'nausea' 'nose' 'pain' 'rash' 'respiratory' 'runny' 'skin'\n",
      " 'sneezing' 'sore' 'stomach' 'throat']\n"
     ]
    }
   ],
   "source": [
    "# Convert symptoms text into numerical feature vectors using CountVectorizer\n",
    "vectorizer = CountVectorizer()\n",
    "X_train = vectorizer.fit_transform(train_data[\"Symptoms\"])\n",
    "X_val = vectorizer.transform(val_data[\"Symptoms\"])\n",
    "X_test = vectorizer.transform(test_data[\"Symptoms\"])\n",
    "\n",
    "# Display the feature names\n",
    "print(f\"Feature Names: {vectorizer.get_feature_names_out()}\")\n"
   ]
  },
  {
   "cell_type": "code",
   "execution_count": 7,
   "metadata": {
    "colab": {
     "base_uri": "https://localhost:8080/"
    },
    "id": "mH4sV4Vqc8dW",
    "outputId": "6dc05761-40f0-44a1-b112-80187c6aba28"
   },
   "outputs": [
    {
     "name": "stdout",
     "output_type": "stream",
     "text": [
      "Sample Training Labels:\n",
      "4227         Aciloc, Cetirizine\n",
      "4676                 Cetirizine\n",
      "800         Diclofenac, Lomotil\n",
      "3671        Paracetamol, Aciloc\n",
      "4193    Paracetamol, Diclofenac\n",
      "Name: Medicine, dtype: object\n"
     ]
    }
   ],
   "source": [
    "# Encode medicines as target labels\n",
    "y_train = train_data[\"Medicine\"]\n",
    "y_val = val_data[\"Medicine\"]\n",
    "y_test = test_data[\"Medicine\"]\n",
    "\n",
    "# Display the first few labels\n",
    "print(\"Sample Training Labels:\")\n",
    "print(y_train.head())\n"
   ]
  },
  {
   "cell_type": "code",
   "execution_count": 8,
   "metadata": {
    "colab": {
     "base_uri": "https://localhost:8080/"
    },
    "id": "vS-yibsGc8gy",
    "outputId": "2d492b3d-2ca8-49cb-a69e-675b22fb2e94"
   },
   "outputs": [
    {
     "name": "stdout",
     "output_type": "stream",
     "text": [
      "Model training completed.\n"
     ]
    }
   ],
   "source": [
    "# Train a Decision Tree Classifier\n",
    "model = DecisionTreeClassifier(random_state=42)\n",
    "model.fit(X_train, y_train)\n",
    "\n",
    "print(\"Model training completed.\")\n"
   ]
  },
  {
   "cell_type": "code",
   "execution_count": 9,
   "metadata": {
    "colab": {
     "base_uri": "https://localhost:8080/"
    },
    "id": "0gcQx5bwc8tb",
    "outputId": "731ed0c2-a850-4a84-fd0e-8eb29f8278bc"
   },
   "outputs": [
    {
     "name": "stdout",
     "output_type": "stream",
     "text": [
      "Validation Accuracy: 93.40%\n"
     ]
    }
   ],
   "source": [
    "# Validate the model on the validation dataset\n",
    "y_val_pred = model.predict(X_val)\n",
    "val_accuracy = accuracy_score(y_val, y_val_pred)\n",
    "\n",
    "print(f\"Validation Accuracy: {val_accuracy * 100:.2f}%\")\n"
   ]
  },
  {
   "cell_type": "code",
   "execution_count": 10,
   "metadata": {
    "colab": {
     "base_uri": "https://localhost:8080/"
    },
    "id": "2OVU6THsdEmC",
    "outputId": "3a298a23-46ef-488c-99db-f2e53a26f4fd"
   },
   "outputs": [
    {
     "name": "stdout",
     "output_type": "stream",
     "text": [
      "Test Accuracy: 91.60%\n"
     ]
    }
   ],
   "source": [
    "# Test the model on the test dataset\n",
    "y_test_pred = model.predict(X_test)\n",
    "test_accuracy = accuracy_score(y_test, y_test_pred)\n",
    "\n",
    "print(f\"Test Accuracy: {test_accuracy * 100:.2f}%\")\n"
   ]
  },
  {
   "cell_type": "code",
   "execution_count": 16,
   "metadata": {},
   "outputs": [
    {
     "name": "stdout",
     "output_type": "stream",
     "text": [
      "Validation Precision: 0.93\n",
      "Validation Recall: 0.93\n",
      "Validation F1-Score: 0.92\n",
      "\n",
      "Validation Classification Report:\n",
      "                                       precision    recall  f1-score   support\n",
      "\n",
      "                               Aciloc       1.00      1.00      1.00        28\n",
      "                   Aciloc, Cetirizine       1.00      1.00      1.00        26\n",
      "                   Aciloc, Diclofenac       0.88      1.00      0.93         7\n",
      "       Aciloc, Diclofenac, Cetirizine       1.00      0.62      0.77         8\n",
      "                      Aciloc, Lomotil       1.00      1.00      1.00         5\n",
      "          Aciloc, Lomotil, Cetirizine       1.00      1.00      1.00         1\n",
      "                         Azithromycin       1.00      1.00      1.00        39\n",
      "                 Azithromycin, Aciloc       1.00      1.00      1.00        18\n",
      "     Azithromycin, Aciloc, Cetirizine       1.00      1.00      1.00         5\n",
      "     Azithromycin, Aciloc, Diclofenac       0.00      0.00      0.00         4\n",
      "        Azithromycin, Aciloc, Lomotil       1.00      1.00      1.00         3\n",
      "             Azithromycin, Cetirizine       1.00      1.00      1.00        28\n",
      "             Azithromycin, Diclofenac       0.85      1.00      0.92        17\n",
      " Azithromycin, Diclofenac, Cetirizine       1.00      0.91      0.95        11\n",
      "    Azithromycin, Diclofenac, Lomotil       1.00      1.00      1.00         2\n",
      "                Azithromycin, Lomotil       1.00      1.00      1.00         7\n",
      "    Azithromycin, Lomotil, Cetirizine       1.00      1.00      1.00         8\n",
      "            Azithromycin, Paracetamol       0.36      0.80      0.50         5\n",
      "    Azithromycin, Paracetamol, Aciloc       1.00      1.00      1.00         2\n",
      "Azithromycin, Paracetamol, Cetirizine       0.67      0.80      0.73         5\n",
      "Azithromycin, Paracetamol, Diclofenac       0.50      1.00      0.67         2\n",
      "   Azithromycin, Paracetamol, Lomotil       1.00      0.50      0.67         2\n",
      "                           Cetirizine       1.00      1.00      1.00        43\n",
      "      Cetirizine, Diclofenac, Lomotil       0.00      0.00      0.00         2\n",
      "                           Diclofenac       1.00      1.00      1.00        32\n",
      "               Diclofenac, Cetirizine       0.86      1.00      0.93        19\n",
      "                  Diclofenac, Lomotil       1.00      1.00      1.00        10\n",
      "      Diclofenac, Lomotil, Cetirizine       0.57      0.80      0.67         5\n",
      "                              Lomotil       1.00      1.00      1.00        25\n",
      "                  Lomotil, Cetirizine       1.00      1.00      1.00        10\n",
      "                          Paracetamol       1.00      1.00      1.00        25\n",
      "                  Paracetamol, Aciloc       1.00      1.00      1.00        13\n",
      "      Paracetamol, Aciloc, Cetirizine       1.00      1.00      1.00         3\n",
      "      Paracetamol, Aciloc, Diclofenac       1.00      1.00      1.00         6\n",
      "         Paracetamol, Aciloc, Lomotil       1.00      0.60      0.75         5\n",
      "            Paracetamol, Azithromycin       0.67      0.22      0.33         9\n",
      "Paracetamol, Azithromycin, Cetirizine       0.00      0.00      0.00         2\n",
      "Paracetamol, Azithromycin, Diclofenac       1.00      0.25      0.40         4\n",
      "   Paracetamol, Azithromycin, Lomotil       0.80      1.00      0.89         4\n",
      "              Paracetamol, Cetirizine       1.00      1.00      1.00        13\n",
      "              Paracetamol, Diclofenac       0.85      1.00      0.92        17\n",
      "  Paracetamol, Diclofenac, Cetirizine       1.00      1.00      1.00         5\n",
      "     Paracetamol, Diclofenac, Lomotil       0.00      0.00      0.00         2\n",
      "                 Paracetamol, Lomotil       0.58      1.00      0.74         7\n",
      "     Paracetamol, Lomotil, Cetirizine       1.00      0.50      0.67         6\n",
      "\n",
      "                             accuracy                           0.93       500\n",
      "                            macro avg       0.84      0.82      0.81       500\n",
      "                         weighted avg       0.93      0.93      0.92       500\n",
      "\n"
     ]
    }
   ],
   "source": [
    "from sklearn.metrics import precision_score, recall_score, f1_score, classification_report\n",
    "\n",
    "# Calculate Precision, Recall, and F1-Score on the validation set with zero_division set to 0\n",
    "val_precision = precision_score(y_val, y_val_pred, average='weighted', zero_division=0)\n",
    "val_recall = recall_score(y_val, y_val_pred, average='weighted', zero_division=0)\n",
    "val_f1 = f1_score(y_val, y_val_pred, average='weighted', zero_division=0)\n",
    "\n",
    "print(f\"Validation Precision: {val_precision:.2f}\")\n",
    "print(f\"Validation Recall: {val_recall:.2f}\")\n",
    "print(f\"Validation F1-Score: {val_f1:.2f}\")\n",
    "\n",
    "# Detailed classification report with zero_division set to 0\n",
    "print(\"\\nValidation Classification Report:\")\n",
    "print(classification_report(y_val, y_val_pred, zero_division=0))\n"
   ]
  },
  {
   "cell_type": "code",
   "execution_count": 17,
   "metadata": {},
   "outputs": [
    {
     "name": "stdout",
     "output_type": "stream",
     "text": [
      "Test Precision: 0.92\n",
      "Test Recall: 0.92\n",
      "Test F1-Score: 0.91\n",
      "\n",
      "Test Classification Report:\n",
      "                                       precision    recall  f1-score   support\n",
      "\n",
      "                               Aciloc       1.00      1.00      1.00        23\n",
      "                   Aciloc, Cetirizine       0.94      1.00      0.97        29\n",
      "                   Aciloc, Diclofenac       0.94      1.00      0.97        16\n",
      "       Aciloc, Diclofenac, Cetirizine       1.00      0.80      0.89         5\n",
      "          Aciloc, Diclofenac, Lomotil       0.00      0.00      0.00         1\n",
      "                      Aciloc, Lomotil       1.00      1.00      1.00         7\n",
      "          Aciloc, Lomotil, Cetirizine       1.00      1.00      1.00         3\n",
      "                         Azithromycin       1.00      1.00      1.00        40\n",
      "                 Azithromycin, Aciloc       0.95      1.00      0.97        19\n",
      "     Azithromycin, Aciloc, Cetirizine       1.00      0.80      0.89        10\n",
      "     Azithromycin, Aciloc, Diclofenac       1.00      0.75      0.86         4\n",
      "        Azithromycin, Aciloc, Lomotil       1.00      1.00      1.00         1\n",
      "             Azithromycin, Cetirizine       1.00      1.00      1.00        20\n",
      "             Azithromycin, Diclofenac       0.93      1.00      0.96        13\n",
      " Azithromycin, Diclofenac, Cetirizine       1.00      1.00      1.00         7\n",
      "    Azithromycin, Diclofenac, Lomotil       1.00      1.00      1.00         4\n",
      "                Azithromycin, Lomotil       1.00      1.00      1.00         4\n",
      "    Azithromycin, Lomotil, Cetirizine       1.00      0.86      0.92         7\n",
      "            Azithromycin, Paracetamol       0.83      0.62      0.71         8\n",
      "    Azithromycin, Paracetamol, Aciloc       0.00      0.00      0.00         3\n",
      "Azithromycin, Paracetamol, Cetirizine       0.62      0.56      0.59         9\n",
      "Azithromycin, Paracetamol, Diclofenac       1.00      1.00      1.00         3\n",
      "   Azithromycin, Paracetamol, Lomotil       0.00      0.00      0.00         1\n",
      "                           Cetirizine       1.00      1.00      1.00        56\n",
      "      Cetirizine, Diclofenac, Lomotil       0.50      0.50      0.50         2\n",
      "                           Diclofenac       1.00      1.00      1.00        22\n",
      "          Diclofenac, Aciloc, Lomotil       0.00      0.00      0.00         3\n",
      "               Diclofenac, Cetirizine       0.89      1.00      0.94        17\n",
      "                  Diclofenac, Lomotil       0.90      1.00      0.95        19\n",
      "          Diclofenac, Lomotil, Aciloc       0.00      0.00      0.00         1\n",
      "      Diclofenac, Lomotil, Cetirizine       0.33      0.33      0.33         3\n",
      "                              Lomotil       1.00      1.00      1.00        17\n",
      "                  Lomotil, Cetirizine       0.82      1.00      0.90         9\n",
      "                          Paracetamol       1.00      1.00      1.00        23\n",
      "                  Paracetamol, Aciloc       0.92      1.00      0.96        12\n",
      "    Paracetamol, Aciloc, Azithromycin       0.00      0.00      0.00         0\n",
      "      Paracetamol, Aciloc, Cetirizine       1.00      0.56      0.71         9\n",
      "      Paracetamol, Aciloc, Diclofenac       1.00      1.00      1.00         2\n",
      "         Paracetamol, Aciloc, Lomotil       0.00      0.00      0.00         2\n",
      "            Paracetamol, Azithromycin       0.50      0.75      0.60         4\n",
      "    Paracetamol, Azithromycin, Aciloc       0.00      0.00      0.00         1\n",
      "Paracetamol, Azithromycin, Cetirizine       0.00      0.00      0.00         3\n",
      "Paracetamol, Azithromycin, Diclofenac       1.00      1.00      1.00         3\n",
      "   Paracetamol, Azithromycin, Lomotil       0.75      0.50      0.60         6\n",
      "              Paracetamol, Cetirizine       1.00      1.00      1.00        18\n",
      "              Paracetamol, Diclofenac       1.00      1.00      1.00         9\n",
      "  Paracetamol, Diclofenac, Cetirizine       1.00      0.89      0.94         9\n",
      "     Paracetamol, Diclofenac, Lomotil       1.00      1.00      1.00         3\n",
      "                 Paracetamol, Lomotil       0.38      1.00      0.55         3\n",
      "     Paracetamol, Lomotil, Cetirizine       0.67      0.57      0.62         7\n",
      "\n",
      "                             accuracy                           0.92       500\n",
      "                            macro avg       0.74      0.73      0.73       500\n",
      "                         weighted avg       0.92      0.92      0.91       500\n",
      "\n"
     ]
    }
   ],
   "source": [
    "# Calculate Precision, Recall, and F1-Score on the test set with zero_division set to 0\n",
    "test_precision = precision_score(y_test, y_test_pred, average='weighted', zero_division=0)\n",
    "test_recall = recall_score(y_test, y_test_pred, average='weighted', zero_division=0)\n",
    "test_f1 = f1_score(y_test, y_test_pred, average='weighted', zero_division=0)\n",
    "\n",
    "print(f\"Test Precision: {test_precision:.2f}\")\n",
    "print(f\"Test Recall: {test_recall:.2f}\")\n",
    "print(f\"Test F1-Score: {test_f1:.2f}\")\n",
    "\n",
    "# Detailed classification report with zero_division set to 0\n",
    "print(\"\\nTest Classification Report:\")\n",
    "print(classification_report(y_test, y_test_pred, zero_division=0))\n"
   ]
  },
  {
   "cell_type": "code",
   "execution_count": null,
   "metadata": {},
   "outputs": [],
   "source": []
  },
  {
   "cell_type": "code",
   "execution_count": 13,
   "metadata": {
    "colab": {
     "base_uri": "https://localhost:8080/"
    },
    "id": "dQbrcnDZdEop",
    "outputId": "14f20870-8acf-4b7e-d7fa-d4d93cbb39cd"
   },
   "outputs": [
    {
     "name": "stdout",
     "output_type": "stream",
     "text": [
      "Symptoms: fever runny nose => Predicted Medicine: Paracetamol, Cetirizine\n",
      "Symptoms: stomach cramps diarrhea => Predicted Medicine: Lomotil\n",
      "Symptoms: headache muscle pain => Predicted Medicine: Paracetamol\n"
     ]
    }
   ],
   "source": [
    "# Predict medicines for new symptoms\n",
    "new_symptoms = [\"fever runny nose\", \"stomach cramps diarrhea\", \"headache muscle pain\"]\n",
    "new_symptom_vectors = vectorizer.transform(new_symptoms)\n",
    "predictions = model.predict(new_symptom_vectors)\n",
    "\n",
    "# Display predictions\n",
    "for i, symptoms in enumerate(new_symptoms):\n",
    "    print(f\"Symptoms: {symptoms} => Predicted Medicine: {predictions[i]}\")\n"
   ]
  },
  {
   "cell_type": "code",
   "execution_count": 14,
   "metadata": {
    "colab": {
     "base_uri": "https://localhost:8080/"
    },
    "id": "pkgFHQOEdEsI",
    "outputId": "09aad814-e566-423c-e4cb-75fea9c88677"
   },
   "outputs": [
    {
     "name": "stdout",
     "output_type": "stream",
     "text": [
      "Model and vectorizer saved.\n"
     ]
    }
   ],
   "source": [
    "import joblib\n",
    "\n",
    "# Save the trained model and vectorizer\n",
    "joblib.dump(model, \"medicine_classifier.pkl\")\n",
    "joblib.dump(vectorizer, \"vectorizer.pkl\")\n",
    "\n",
    "print(\"Model and vectorizer saved.\")\n"
   ]
  },
  {
   "cell_type": "code",
   "execution_count": 15,
   "metadata": {
    "colab": {
     "base_uri": "https://localhost:8080/"
    },
    "id": "mRcIeT1odLvz",
    "outputId": "04b915f3-4dc2-4e23-9795-85d576245d97"
   },
   "outputs": [
    {
     "name": "stdout",
     "output_type": "stream",
     "text": [
      "Symptoms: cough sore throat => Predicted Medicine: Azithromycin\n",
      "Symptoms: skin rash itchy eyes => Predicted Medicine: Cetirizine\n"
     ]
    }
   ],
   "source": [
    "# Load the trained model and vectorizer\n",
    "loaded_model = joblib.load(\"medicine_classifier.pkl\")\n",
    "loaded_vectorizer = joblib.load(\"vectorizer.pkl\")\n",
    "\n",
    "# Predict using the loaded model\n",
    "sample_symptoms = [\"cough sore throat\", \"skin rash itchy eyes\"]\n",
    "sample_vectors = loaded_vectorizer.transform(sample_symptoms)\n",
    "sample_predictions = loaded_model.predict(sample_vectors)\n",
    "\n",
    "# Display predictions\n",
    "for i, symptoms in enumerate(sample_symptoms):\n",
    "    print(f\"Symptoms: {symptoms} => Predicted Medicine: {sample_predictions[i]}\")\n"
   ]
  }
 ],
 "metadata": {
  "colab": {
   "provenance": []
  },
  "kernelspec": {
   "display_name": "Python 3",
   "name": "python3"
  },
  "language_info": {
   "codemirror_mode": {
    "name": "ipython",
    "version": 3
   },
   "file_extension": ".py",
   "mimetype": "text/x-python",
   "name": "python",
   "nbconvert_exporter": "python",
   "pygments_lexer": "ipython3",
   "version": "3.12.4"
  }
 },
 "nbformat": 4,
 "nbformat_minor": 0
}
